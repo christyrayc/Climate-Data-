{
 "cells": [
  {
   "cell_type": "markdown",
   "id": "143aa49a",
   "metadata": {},
   "source": [
    "###Create animated choropleth map of the temperature of countries over time."
   ]
  },
  {
   "cell_type": "code",
   "execution_count": 34,
   "id": "43824713",
   "metadata": {},
   "outputs": [],
   "source": [
    "import pandas as pd\n",
    "import numpy as np\n",
    "import plotly.express as px\n",
    "from sqlalchemy import create_engine\n",
    "from sqlalchemy import text\n",
    "import plotly.graph_objects as go\n",
    "import plotly.figure_factory as ff\n",
    "\n"
   ]
  },
  {
   "cell_type": "code",
   "execution_count": 35,
   "id": "ff6f241c",
   "metadata": {},
   "outputs": [],
   "source": [
    "from dotenv import dotenv_values\n",
    "\n",
    "config = dotenv_values()\n"
   ]
  },
  {
   "cell_type": "code",
   "execution_count": 36,
   "id": "3736e6c4",
   "metadata": {},
   "outputs": [],
   "source": [
    "username = config['USER']\n",
    "password = config['PASS']\n",
    "host = config['HOST']\n",
    "port = config['PORT']"
   ]
  },
  {
   "cell_type": "code",
   "execution_count": 37,
   "id": "a33c80d4",
   "metadata": {},
   "outputs": [],
   "source": [
    "\n",
    "\n",
    "\n",
    "url = f'postgresql://{username}:{password}@{host}:{port}/climate'"
   ]
  },
  {
   "cell_type": "code",
   "execution_count": 38,
   "id": "2daeb3f3",
   "metadata": {},
   "outputs": [],
   "source": [
    "engine = create_engine(url, echo=False)"
   ]
  },
  {
   "cell_type": "code",
   "execution_count": null,
   "id": "d3274ecf",
   "metadata": {},
   "outputs": [],
   "source": [
    "query = \"\"\"\n",
    "   SELECT ymt.year, ymt.yearly_temp AS average_temp, s.cn, s.staname\n",
    "FROM yearly_mean_temperature ymt\n",
    "JOIN stations s ON ymt.staid = s.staid;\n",
    "\n",
    "\"\"\"\n",
    "\n",
    "with engine.begin() as conn:\n",
    "    df = pd.read_sql(query, conn)\n",
    "\n",
    "\n",
    "fig = px.choropleth(\n",
    "    data_frame=df,\n",
    "    locations=\"cn\",       # Country alpha codes column\n",
    "    locationmode=\"ISO-3\", # Specify the location mode for alpha codes\n",
    "    color=\"average_temp\", # Column for coloring the map (average temperature)\n",
    "    hover_name=\"staname\", # Column to add to hover information (country name)\n",
    "    animation_frame=\"year\", # Column to animate the plot (year)\n",
    "    color_continuous_scale=\"Viridis\", # Choose a color scale\n",
    "    projection=\"natural earth\",      # Choose a map projection\n",
    "    title=\"Yearly Average Temperature per Country\", # Plot title\n",
    ")\n",
    "\n",
    "fig.show()"
   ]
  },
  {
   "cell_type": "code",
   "execution_count": null,
   "id": "b305ec34",
   "metadata": {},
   "outputs": [],
   "source": [
    "\n",
    "# Assuming you have already created the 'engine' object with appropriate database connection details\n",
    "\n",
    "\n",
    "query = \"\"\"\n",
    "   SELECT s.staname AS station_name, s.cn AS alpha_code, s.lat AS latitude, s.lon AS longitude\n",
    "FROM stations s\n",
    "INNER JOIN mean_temperature mt ON s.staid = mt.staid;\n",
    "\n",
    "\"\"\"\n",
    "\n",
    "\n",
    "# with engine.begin() as conn:\n",
    "#     df = pd.read_sql(query, conn)\n",
    "\n",
    "\n",
    "fig = go.Figure(data=go.Scattergeo(\n",
    "    lon = df['longitude'],\n",
    "    lat = df['latitude'],\n",
    "    text = df['station_name'] + ', ' + df['alpha_code'],\n",
    "    mode = 'markers',\n",
    "    marker_color = 'blue',\n",
    "))\n",
    "\n",
    "fig.update_layout(\n",
    "    title = 'Weather Stations Scattermap',\n",
    "    geo_scope='world', # Set the scope of the map\n",
    ")\n",
    "\n",
    "\n",
    "fig.show()"
   ]
  },
  {
   "cell_type": "code",
   "execution_count": null,
   "id": "17b68344",
   "metadata": {},
   "outputs": [],
   "source": []
  }
 ],
 "metadata": {
  "kernelspec": {
   "display_name": "Python 3 (ipykernel)",
   "language": "python",
   "name": "python3"
  },
  "language_info": {
   "codemirror_mode": {
    "name": "ipython",
    "version": 3
   },
   "file_extension": ".py",
   "mimetype": "text/x-python",
   "name": "python",
   "nbconvert_exporter": "python",
   "pygments_lexer": "ipython3",
   "version": "3.10.9"
  }
 },
 "nbformat": 4,
 "nbformat_minor": 5
}
