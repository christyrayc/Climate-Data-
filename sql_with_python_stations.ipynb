{
 "cells": [
  {
   "cell_type": "code",
   "execution_count": 2,
   "id": "c8afcfa8",
   "metadata": {},
   "outputs": [],
   "source": [
    "import pandas as pd \n",
    "from sqlalchemy import create_engine, text"
   ]
  },
  {
   "cell_type": "code",
   "execution_count": 3,
   "id": "9d82dab0",
   "metadata": {},
   "outputs": [
    {
     "data": {
      "text/plain": [
       "'/Users/christianaosatoamehraymond/Documents/GitHub/seaborn-seeds-student-code/06_interactive_visualizations/daily_project'"
      ]
     },
     "execution_count": 3,
     "metadata": {},
     "output_type": "execute_result"
    }
   ],
   "source": [
    "pwd\n"
   ]
  },
  {
   "cell_type": "code",
   "execution_count": 4,
   "id": "993fad15",
   "metadata": {
    "scrolled": false
   },
   "outputs": [],
   "source": [
    "df= pd.read_csv('../data/stations.csv',skiprows=17) \n"
   ]
  },
  {
   "cell_type": "code",
   "execution_count": 4,
   "id": "242ff10b",
   "metadata": {},
   "outputs": [
    {
     "data": {
      "text/plain": [
       "Index(['STAID', 'STANAME                                 ', 'CN', '      LAT',\n",
       "       '       LON', 'HGHT'],\n",
       "      dtype='object')"
      ]
     },
     "execution_count": 4,
     "metadata": {},
     "output_type": "execute_result"
    }
   ],
   "source": [
    "df.columns"
   ]
  },
  {
   "cell_type": "code",
   "execution_count": 5,
   "id": "2b524cc4",
   "metadata": {},
   "outputs": [],
   "source": [
    "df.columns = df.columns.str.strip().str.lower()"
   ]
  },
  {
   "cell_type": "code",
   "execution_count": 6,
   "id": "c9e81094",
   "metadata": {},
   "outputs": [],
   "source": [
    "df['cn']=df['cn'].str.strip()\n"
   ]
  },
  {
   "cell_type": "code",
   "execution_count": 7,
   "id": "53532f4a",
   "metadata": {
    "scrolled": false
   },
   "outputs": [
    {
     "data": {
      "text/html": [
       "<div>\n",
       "<style scoped>\n",
       "    .dataframe tbody tr th:only-of-type {\n",
       "        vertical-align: middle;\n",
       "    }\n",
       "\n",
       "    .dataframe tbody tr th {\n",
       "        vertical-align: top;\n",
       "    }\n",
       "\n",
       "    .dataframe thead th {\n",
       "        text-align: right;\n",
       "    }\n",
       "</style>\n",
       "<table border=\"1\" class=\"dataframe\">\n",
       "  <thead>\n",
       "    <tr style=\"text-align: right;\">\n",
       "      <th></th>\n",
       "      <th>staid</th>\n",
       "      <th>staname</th>\n",
       "      <th>cn</th>\n",
       "      <th>lat</th>\n",
       "      <th>lon</th>\n",
       "      <th>hght</th>\n",
       "    </tr>\n",
       "  </thead>\n",
       "  <tbody>\n",
       "    <tr>\n",
       "      <th>0</th>\n",
       "      <td>1</td>\n",
       "      <td>VAEXJOE</td>\n",
       "      <td>SE</td>\n",
       "      <td>+56:52:00</td>\n",
       "      <td>+014:48:00</td>\n",
       "      <td>166</td>\n",
       "    </tr>\n",
       "    <tr>\n",
       "      <th>1</th>\n",
       "      <td>2</td>\n",
       "      <td>FALUN</td>\n",
       "      <td>SE</td>\n",
       "      <td>+60:37:00</td>\n",
       "      <td>+015:37:00</td>\n",
       "      <td>160</td>\n",
       "    </tr>\n",
       "    <tr>\n",
       "      <th>2</th>\n",
       "      <td>3</td>\n",
       "      <td>STENSELE</td>\n",
       "      <td>SE</td>\n",
       "      <td>+65:04:00</td>\n",
       "      <td>+017:09:59</td>\n",
       "      <td>325</td>\n",
       "    </tr>\n",
       "    <tr>\n",
       "      <th>3</th>\n",
       "      <td>4</td>\n",
       "      <td>LINKOEPING</td>\n",
       "      <td>SE</td>\n",
       "      <td>+58:24:00</td>\n",
       "      <td>+015:31:59</td>\n",
       "      <td>93</td>\n",
       "    </tr>\n",
       "    <tr>\n",
       "      <th>4</th>\n",
       "      <td>5</td>\n",
       "      <td>LINKOEPING-MALMSLAETT</td>\n",
       "      <td>SE</td>\n",
       "      <td>+58:24:00</td>\n",
       "      <td>+015:31:59</td>\n",
       "      <td>93</td>\n",
       "    </tr>\n",
       "    <tr>\n",
       "      <th>...</th>\n",
       "      <td>...</td>\n",
       "      <td>...</td>\n",
       "      <td>...</td>\n",
       "      <td>...</td>\n",
       "      <td>...</td>\n",
       "      <td>...</td>\n",
       "    </tr>\n",
       "    <tr>\n",
       "      <th>7060</th>\n",
       "      <td>26304</td>\n",
       "      <td>E39 UALAND</td>\n",
       "      <td>NO</td>\n",
       "      <td>+58:32:00</td>\n",
       "      <td>+006:19:32</td>\n",
       "      <td>213</td>\n",
       "    </tr>\n",
       "    <tr>\n",
       "      <th>7061</th>\n",
       "      <td>26305</td>\n",
       "      <td>E16 HALLINGBY</td>\n",
       "      <td>NO</td>\n",
       "      <td>+60:16:23</td>\n",
       "      <td>+010:11:11</td>\n",
       "      <td>159</td>\n",
       "    </tr>\n",
       "    <tr>\n",
       "      <th>7062</th>\n",
       "      <td>26306</td>\n",
       "      <td>E6 DRIVSTUA</td>\n",
       "      <td>NO</td>\n",
       "      <td>+62:25:37</td>\n",
       "      <td>+009:37:22</td>\n",
       "      <td>697</td>\n",
       "    </tr>\n",
       "    <tr>\n",
       "      <th>7063</th>\n",
       "      <td>26307</td>\n",
       "      <td>FV520 SVANDALSFOSSEN</td>\n",
       "      <td>NO</td>\n",
       "      <td>+59:37:28</td>\n",
       "      <td>+006:17:30</td>\n",
       "      <td>18</td>\n",
       "    </tr>\n",
       "    <tr>\n",
       "      <th>7064</th>\n",
       "      <td>26308</td>\n",
       "      <td>E6 KVAL</td>\n",
       "      <td>NO</td>\n",
       "      <td>+63:15:29</td>\n",
       "      <td>+010:16:59</td>\n",
       "      <td>13</td>\n",
       "    </tr>\n",
       "  </tbody>\n",
       "</table>\n",
       "<p>7065 rows × 6 columns</p>\n",
       "</div>"
      ],
      "text/plain": [
       "      staid                                       staname  cn        lat  \\\n",
       "0         1  VAEXJOE                                       SE  +56:52:00   \n",
       "1         2  FALUN                                         SE  +60:37:00   \n",
       "2         3  STENSELE                                      SE  +65:04:00   \n",
       "3         4  LINKOEPING                                    SE  +58:24:00   \n",
       "4         5  LINKOEPING-MALMSLAETT                         SE  +58:24:00   \n",
       "...     ...                                           ...  ..        ...   \n",
       "7060  26304  E39 UALAND                                    NO  +58:32:00   \n",
       "7061  26305  E16 HALLINGBY                                 NO  +60:16:23   \n",
       "7062  26306  E6 DRIVSTUA                                   NO  +62:25:37   \n",
       "7063  26307  FV520 SVANDALSFOSSEN                          NO  +59:37:28   \n",
       "7064  26308  E6 KVAL                                       NO  +63:15:29   \n",
       "\n",
       "             lon  hght  \n",
       "0     +014:48:00   166  \n",
       "1     +015:37:00   160  \n",
       "2     +017:09:59   325  \n",
       "3     +015:31:59    93  \n",
       "4     +015:31:59    93  \n",
       "...          ...   ...  \n",
       "7060  +006:19:32   213  \n",
       "7061  +010:11:11   159  \n",
       "7062  +009:37:22   697  \n",
       "7063  +006:17:30    18  \n",
       "7064  +010:16:59    13  \n",
       "\n",
       "[7065 rows x 6 columns]"
      ]
     },
     "execution_count": 7,
     "metadata": {},
     "output_type": "execute_result"
    }
   ],
   "source": [
    "df"
   ]
  },
  {
   "cell_type": "code",
   "execution_count": 8,
   "id": "f263463e",
   "metadata": {},
   "outputs": [],
   "source": [
    "from dotenv import dotenv_values\n",
    "\n",
    "config = dotenv_values()\n"
   ]
  },
  {
   "cell_type": "code",
   "execution_count": 9,
   "id": "ac32c995",
   "metadata": {},
   "outputs": [],
   "source": [
    "username = config['USER']\n",
    "password = config['PASS']\n",
    "host = config['HOST']\n",
    "port = config['PORT']"
   ]
  },
  {
   "cell_type": "code",
   "execution_count": 10,
   "id": "06d94a5a",
   "metadata": {},
   "outputs": [],
   "source": [
    "url = f'postgresql://{username}:{password}@{host}:{port}/climate'"
   ]
  },
  {
   "cell_type": "code",
   "execution_count": 11,
   "id": "f061e1e3",
   "metadata": {},
   "outputs": [],
   "source": [
    "engine = create_engine(url, echo=False)"
   ]
  },
  {
   "cell_type": "code",
   "execution_count": 12,
   "id": "1717af3f",
   "metadata": {},
   "outputs": [],
   "source": [
    "with engine.begin() as conn:\n",
    "    conn.execute(text(\"DROP TABLE IF EXISTS stations;\"))\n",
    "    conn.execute(text(\"\"\"\n",
    "        CREATE TABLE stations (\n",
    "            staid INT PRIMARY KEY,\n",
    "            staname VARCHAR,\n",
    "            cn VARCHAR(2),\n",
    "            lat VARCHAR,\n",
    "            lon VARCHAR,\n",
    "            hght INT\n",
    "        );\n",
    "    \"\"\"))"
   ]
  },
  {
   "cell_type": "code",
   "execution_count": 13,
   "id": "65cd0df1",
   "metadata": {
    "scrolled": false
   },
   "outputs": [
    {
     "data": {
      "text/plain": [
       "65"
      ]
     },
     "execution_count": 13,
     "metadata": {},
     "output_type": "execute_result"
    }
   ],
   "source": [
    "df.to_sql('stations', engine, if_exists='replace', index=False)"
   ]
  },
  {
   "cell_type": "code",
   "execution_count": null,
   "id": "8bda7d93",
   "metadata": {},
   "outputs": [],
   "source": []
  }
 ],
 "metadata": {
  "kernelspec": {
   "display_name": "Python 3 (ipykernel)",
   "language": "python",
   "name": "python3"
  },
  "language_info": {
   "codemirror_mode": {
    "name": "ipython",
    "version": 3
   },
   "file_extension": ".py",
   "mimetype": "text/x-python",
   "name": "python",
   "nbconvert_exporter": "python",
   "pygments_lexer": "ipython3",
   "version": "3.10.9"
  }
 },
 "nbformat": 4,
 "nbformat_minor": 5
}
